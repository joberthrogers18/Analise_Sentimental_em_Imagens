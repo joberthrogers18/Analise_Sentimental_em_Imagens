{
 "cells": [
  {
   "cell_type": "code",
   "execution_count": 34,
   "metadata": {},
   "outputs": [],
   "source": [
    "from sklearn.model_selection import train_test_split\n",
    "from imblearn.under_sampling import RandomUnderSampler\n",
    "from collections import Counter\n",
    "import pandas as pd\n",
    "%matplotlib inline\n",
    "import matplotlib.pyplot as plt"
   ]
  },
  {
   "cell_type": "markdown",
   "metadata": {},
   "source": [
    "# Threat data"
   ]
  },
  {
   "cell_type": "code",
   "execution_count": 2,
   "metadata": {},
   "outputs": [
    {
     "name": "stdout",
     "output_type": "stream",
     "text": [
      "<class 'pandas.core.frame.DataFrame'>\n",
      "RangeIndex: 15613 entries, 0 to 15612\n",
      "Data columns (total 10 columns):\n",
      " #   Column                                                                          Non-Null Count  Dtype  \n",
      "---  ------                                                                          --------------  -----  \n",
      " 0   _unit_id                                                                        15613 non-null  int64  \n",
      " 1   _golden                                                                         15613 non-null  bool   \n",
      " 2   _unit_state                                                                     15613 non-null  object \n",
      " 3   _trusted_judgments                                                              15613 non-null  int64  \n",
      " 4   _last_judgment_at                                                               14999 non-null  object \n",
      " 5   which_of_these_sentiment_scores_does_the_above_image_fit_into_best              15613 non-null  object \n",
      " 6   which_of_these_sentiment_scores_does_the_above_image_fit_into_best:confidence   15613 non-null  float64\n",
      " 7   imageurl                                                                        15613 non-null  object \n",
      " 8   which_of_these_sentiment_scores_does_the_above_image_fit_into_best_gold         613 non-null    object \n",
      " 9   which_of_these_sentiment_scores_does_the_above_image_fit_into_best_gold_reason  18 non-null     object \n",
      "dtypes: bool(1), float64(1), int64(2), object(6)\n",
      "memory usage: 1.1+ MB\n"
     ]
    }
   ],
   "source": [
    "# dataset present in site https://data.world/crowdflower/image-sentiment-polarity/workspace/file?filename=image-Sentiment-polarity-DFE.csv\n",
    "dataframe = pd.read_csv('image-Sentiment-polarity-DFE.csv')\n",
    "dataframe.info()"
   ]
  },
  {
   "cell_type": "code",
   "execution_count": 3,
   "metadata": {},
   "outputs": [
    {
     "data": {
      "text/html": [
       "<div>\n",
       "<style scoped>\n",
       "    .dataframe tbody tr th:only-of-type {\n",
       "        vertical-align: middle;\n",
       "    }\n",
       "\n",
       "    .dataframe tbody tr th {\n",
       "        vertical-align: top;\n",
       "    }\n",
       "\n",
       "    .dataframe thead th {\n",
       "        text-align: right;\n",
       "    }\n",
       "</style>\n",
       "<table border=\"1\" class=\"dataframe\">\n",
       "  <thead>\n",
       "    <tr style=\"text-align: right;\">\n",
       "      <th></th>\n",
       "      <th>_unit_id</th>\n",
       "      <th>_golden</th>\n",
       "      <th>_unit_state</th>\n",
       "      <th>_trusted_judgments</th>\n",
       "      <th>_last_judgment_at</th>\n",
       "      <th>which_of_these_sentiment_scores_does_the_above_image_fit_into_best</th>\n",
       "      <th>which_of_these_sentiment_scores_does_the_above_image_fit_into_best:confidence</th>\n",
       "      <th>imageurl</th>\n",
       "      <th>which_of_these_sentiment_scores_does_the_above_image_fit_into_best_gold</th>\n",
       "      <th>which_of_these_sentiment_scores_does_the_above_image_fit_into_best_gold_reason</th>\n",
       "    </tr>\n",
       "  </thead>\n",
       "  <tbody>\n",
       "    <tr>\n",
       "      <th>0</th>\n",
       "      <td>694550568</td>\n",
       "      <td>True</td>\n",
       "      <td>golden</td>\n",
       "      <td>47</td>\n",
       "      <td>NaN</td>\n",
       "      <td>Positive</td>\n",
       "      <td>0.6395</td>\n",
       "      <td>http://farm1.staticflickr.com/20/71235476_3103...</td>\n",
       "      <td>Highly positive\\nPositive</td>\n",
       "      <td>He is smiling. =&gt; happy, joy</td>\n",
       "    </tr>\n",
       "    <tr>\n",
       "      <th>1</th>\n",
       "      <td>694550569</td>\n",
       "      <td>True</td>\n",
       "      <td>golden</td>\n",
       "      <td>36</td>\n",
       "      <td>NaN</td>\n",
       "      <td>Positive</td>\n",
       "      <td>0.6458</td>\n",
       "      <td>http://farm4.staticflickr.com/3096/2584485524_...</td>\n",
       "      <td>Highly positive\\nPositive</td>\n",
       "      <td>A beautiful scenery. =&gt; serenity</td>\n",
       "    </tr>\n",
       "    <tr>\n",
       "      <th>2</th>\n",
       "      <td>694550570</td>\n",
       "      <td>True</td>\n",
       "      <td>golden</td>\n",
       "      <td>35</td>\n",
       "      <td>NaN</td>\n",
       "      <td>Negative</td>\n",
       "      <td>0.8420</td>\n",
       "      <td>http://farm3.staticflickr.com/2880/11733997835...</td>\n",
       "      <td>Negative\\nHighly negative</td>\n",
       "      <td>They look serious. =&gt; sadness, fear</td>\n",
       "    </tr>\n",
       "    <tr>\n",
       "      <th>3</th>\n",
       "      <td>694550571</td>\n",
       "      <td>True</td>\n",
       "      <td>golden</td>\n",
       "      <td>41</td>\n",
       "      <td>NaN</td>\n",
       "      <td>Positive</td>\n",
       "      <td>0.7216</td>\n",
       "      <td>http://farm4.staticflickr.com/3022/2286937150_...</td>\n",
       "      <td>Highly positive\\nPositive</td>\n",
       "      <td>A cute puppy. =&gt; happy, joy</td>\n",
       "    </tr>\n",
       "    <tr>\n",
       "      <th>4</th>\n",
       "      <td>694550572</td>\n",
       "      <td>True</td>\n",
       "      <td>golden</td>\n",
       "      <td>46</td>\n",
       "      <td>NaN</td>\n",
       "      <td>Positive</td>\n",
       "      <td>0.8801</td>\n",
       "      <td>http://farm1.staticflickr.com/163/357381033_d0...</td>\n",
       "      <td>Highly positive\\nPositive</td>\n",
       "      <td>She looks fun. =&gt; fun, joy, happy</td>\n",
       "    </tr>\n",
       "    <tr>\n",
       "      <th>...</th>\n",
       "      <td>...</td>\n",
       "      <td>...</td>\n",
       "      <td>...</td>\n",
       "      <td>...</td>\n",
       "      <td>...</td>\n",
       "      <td>...</td>\n",
       "      <td>...</td>\n",
       "      <td>...</td>\n",
       "      <td>...</td>\n",
       "      <td>...</td>\n",
       "    </tr>\n",
       "    <tr>\n",
       "      <th>15608</th>\n",
       "      <td>694566363</td>\n",
       "      <td>False</td>\n",
       "      <td>finalized</td>\n",
       "      <td>3</td>\n",
       "      <td>3/26/15 1:59</td>\n",
       "      <td>Positive</td>\n",
       "      <td>0.6705</td>\n",
       "      <td>http://farm3.static.flickr.com/2198/1572103607...</td>\n",
       "      <td>NaN</td>\n",
       "      <td>NaN</td>\n",
       "    </tr>\n",
       "    <tr>\n",
       "      <th>15609</th>\n",
       "      <td>694566364</td>\n",
       "      <td>False</td>\n",
       "      <td>finalized</td>\n",
       "      <td>3</td>\n",
       "      <td>3/26/15 2:13</td>\n",
       "      <td>Positive</td>\n",
       "      <td>0.3373</td>\n",
       "      <td>http://farm1.static.flickr.com/100/263134442_6...</td>\n",
       "      <td>NaN</td>\n",
       "      <td>NaN</td>\n",
       "    </tr>\n",
       "    <tr>\n",
       "      <th>15610</th>\n",
       "      <td>694566365</td>\n",
       "      <td>False</td>\n",
       "      <td>finalized</td>\n",
       "      <td>3</td>\n",
       "      <td>3/26/15 2:54</td>\n",
       "      <td>Positive</td>\n",
       "      <td>0.6663</td>\n",
       "      <td>http://farm2.static.flickr.com/1360/1392747419...</td>\n",
       "      <td>NaN</td>\n",
       "      <td>NaN</td>\n",
       "    </tr>\n",
       "    <tr>\n",
       "      <th>15611</th>\n",
       "      <td>694566366</td>\n",
       "      <td>False</td>\n",
       "      <td>finalized</td>\n",
       "      <td>3</td>\n",
       "      <td>3/26/15 2:46</td>\n",
       "      <td>Negative</td>\n",
       "      <td>0.6760</td>\n",
       "      <td>http://farm3.static.flickr.com/2077/1925076121...</td>\n",
       "      <td>NaN</td>\n",
       "      <td>NaN</td>\n",
       "    </tr>\n",
       "    <tr>\n",
       "      <th>15612</th>\n",
       "      <td>694566367</td>\n",
       "      <td>False</td>\n",
       "      <td>finalized</td>\n",
       "      <td>3</td>\n",
       "      <td>3/26/15 2:19</td>\n",
       "      <td>Positive</td>\n",
       "      <td>0.6683</td>\n",
       "      <td>http://farm3.static.flickr.com/2181/2458243267...</td>\n",
       "      <td>NaN</td>\n",
       "      <td>NaN</td>\n",
       "    </tr>\n",
       "  </tbody>\n",
       "</table>\n",
       "<p>15613 rows × 10 columns</p>\n",
       "</div>"
      ],
      "text/plain": [
       "        _unit_id  _golden _unit_state  _trusted_judgments _last_judgment_at  \\\n",
       "0      694550568     True      golden                  47               NaN   \n",
       "1      694550569     True      golden                  36               NaN   \n",
       "2      694550570     True      golden                  35               NaN   \n",
       "3      694550571     True      golden                  41               NaN   \n",
       "4      694550572     True      golden                  46               NaN   \n",
       "...          ...      ...         ...                 ...               ...   \n",
       "15608  694566363    False   finalized                   3      3/26/15 1:59   \n",
       "15609  694566364    False   finalized                   3      3/26/15 2:13   \n",
       "15610  694566365    False   finalized                   3      3/26/15 2:54   \n",
       "15611  694566366    False   finalized                   3      3/26/15 2:46   \n",
       "15612  694566367    False   finalized                   3      3/26/15 2:19   \n",
       "\n",
       "      which_of_these_sentiment_scores_does_the_above_image_fit_into_best  \\\n",
       "0                                               Positive                   \n",
       "1                                               Positive                   \n",
       "2                                               Negative                   \n",
       "3                                               Positive                   \n",
       "4                                               Positive                   \n",
       "...                                                  ...                   \n",
       "15608                                           Positive                   \n",
       "15609                                           Positive                   \n",
       "15610                                           Positive                   \n",
       "15611                                           Negative                   \n",
       "15612                                           Positive                   \n",
       "\n",
       "       which_of_these_sentiment_scores_does_the_above_image_fit_into_best:confidence  \\\n",
       "0                                                 0.6395                               \n",
       "1                                                 0.6458                               \n",
       "2                                                 0.8420                               \n",
       "3                                                 0.7216                               \n",
       "4                                                 0.8801                               \n",
       "...                                                  ...                               \n",
       "15608                                             0.6705                               \n",
       "15609                                             0.3373                               \n",
       "15610                                             0.6663                               \n",
       "15611                                             0.6760                               \n",
       "15612                                             0.6683                               \n",
       "\n",
       "                                                imageurl  \\\n",
       "0      http://farm1.staticflickr.com/20/71235476_3103...   \n",
       "1      http://farm4.staticflickr.com/3096/2584485524_...   \n",
       "2      http://farm3.staticflickr.com/2880/11733997835...   \n",
       "3      http://farm4.staticflickr.com/3022/2286937150_...   \n",
       "4      http://farm1.staticflickr.com/163/357381033_d0...   \n",
       "...                                                  ...   \n",
       "15608  http://farm3.static.flickr.com/2198/1572103607...   \n",
       "15609  http://farm1.static.flickr.com/100/263134442_6...   \n",
       "15610  http://farm2.static.flickr.com/1360/1392747419...   \n",
       "15611  http://farm3.static.flickr.com/2077/1925076121...   \n",
       "15612  http://farm3.static.flickr.com/2181/2458243267...   \n",
       "\n",
       "      which_of_these_sentiment_scores_does_the_above_image_fit_into_best_gold  \\\n",
       "0                              Highly positive\\nPositive                        \n",
       "1                              Highly positive\\nPositive                        \n",
       "2                              Negative\\nHighly negative                        \n",
       "3                              Highly positive\\nPositive                        \n",
       "4                              Highly positive\\nPositive                        \n",
       "...                                                  ...                        \n",
       "15608                                                NaN                        \n",
       "15609                                                NaN                        \n",
       "15610                                                NaN                        \n",
       "15611                                                NaN                        \n",
       "15612                                                NaN                        \n",
       "\n",
       "      which_of_these_sentiment_scores_does_the_above_image_fit_into_best_gold_reason  \n",
       "0                           He is smiling. => happy, joy                              \n",
       "1                       A beautiful scenery. => serenity                              \n",
       "2                    They look serious. => sadness, fear                              \n",
       "3                            A cute puppy. => happy, joy                              \n",
       "4                      She looks fun. => fun, joy, happy                              \n",
       "...                                                  ...                              \n",
       "15608                                                NaN                              \n",
       "15609                                                NaN                              \n",
       "15610                                                NaN                              \n",
       "15611                                                NaN                              \n",
       "15612                                                NaN                              \n",
       "\n",
       "[15613 rows x 10 columns]"
      ]
     },
     "execution_count": 3,
     "metadata": {},
     "output_type": "execute_result"
    }
   ],
   "source": [
    "dataframe"
   ]
  },
  {
   "cell_type": "code",
   "execution_count": 5,
   "metadata": {},
   "outputs": [
    {
     "data": {
      "text/plain": [
       "<AxesSubplot:>"
      ]
     },
     "execution_count": 5,
     "metadata": {},
     "output_type": "execute_result"
    },
    {
     "data": {
      "image/png": "[encoded data removed]",
      "text/plain": [
       "<Figure size 432x288 with 1 Axes>"
      ]
     },
     "metadata": {
      "needs_background": "light"
     },
     "output_type": "display_data"
    }
   ],
   "source": [
    "# histogram of positive and negative images\n",
    "dataframe['which_of_these_sentiment_scores_does_the_above_image_fit_into_best'].hist()"
   ]
  },
  {
   "cell_type": "code",
   "execution_count": 7,
   "metadata": {},
   "outputs": [],
   "source": [
    "sentimental_label_classify = dataframe[\n",
    "    'which_of_these_sentiment_scores_does_the_above_image_fit_into_best'\n",
    "]"
   ]
  },
  {
   "cell_type": "code",
   "execution_count": 8,
   "metadata": {},
   "outputs": [
    {
     "data": {
      "text/plain": [
       "array(['Positive', 'Negative', 'Highly negative', 'Highly positive',\n",
       "       'Neutral'], dtype=object)"
      ]
     },
     "execution_count": 8,
     "metadata": {},
     "output_type": "execute_result"
    }
   ],
   "source": [
    "sentimental_label_classify.unique()"
   ]
  },
  {
   "cell_type": "code",
   "execution_count": 22,
   "metadata": {},
   "outputs": [],
   "source": [
    "def plot_pie_chart_count_sentiments(sentiment_count):\n",
    "    fig1, ax1 = plt.subplots()\n",
    "    ax1.pie(\n",
    "        sentiment_count.values(), \n",
    "        labels=list(sentiment_count.keys()), \n",
    "        autopct='%1.1f%%',\n",
    "        shadow=True, \n",
    "        startangle=90\n",
    "    )\n",
    "    ax1.axis('equal')  # Equal aspect ratio ensures that pie is drawn as a circle.\n",
    "\n",
    "    plt.show()"
   ]
  },
  {
   "cell_type": "markdown",
   "metadata": {},
   "source": [
    "### Distribution classify labels "
   ]
  },
  {
   "cell_type": "code",
   "execution_count": 23,
   "metadata": {},
   "outputs": [
    {
     "data": {
      "image/png": "[encoded data removed]",
      "text/plain": [
       "<Figure size 432x288 with 1 Axes>"
      ]
     },
     "metadata": {},
     "output_type": "display_data"
    }
   ],
   "source": [
    "sentiment_count = dict(sentimental_label_classify.value_counts())\n",
    "plot_pie_chart_count_sentiments(sentiment_count)"
   ]
  },
  {
   "cell_type": "code",
   "execution_count": 26,
   "metadata": {},
   "outputs": [],
   "source": [
    "dataframe['sentiment'] = dataframe['which_of_these_sentiment_scores_does_the_above_image_fit_into_best']\n",
    "dataframe['sentiment'].replace({\"Highly negative\": \"Negative\", \"Highly positive\": \"Positive\"}, inplace=True)"
   ]
  },
  {
   "cell_type": "code",
   "execution_count": 27,
   "metadata": {},
   "outputs": [
    {
     "data": {
      "text/plain": [
       "array(['Positive', 'Negative', 'Neutral'], dtype=object)"
      ]
     },
     "execution_count": 27,
     "metadata": {},
     "output_type": "execute_result"
    }
   ],
   "source": [
    "dataframe['sentiment'].unique()"
   ]
  },
  {
   "cell_type": "markdown",
   "metadata": {},
   "source": [
    "### Distribution after eliminate classify labels "
   ]
  },
  {
   "cell_type": "code",
   "execution_count": 28,
   "metadata": {},
   "outputs": [
    {
     "data": {
      "image/png": "[encoded data removed]",
      "text/plain": [
       "<Figure size 432x288 with 1 Axes>"
      ]
     },
     "metadata": {},
     "output_type": "display_data"
    }
   ],
   "source": [
    "sentiment_count = dict(dataframe['sentiment'].value_counts())\n",
    "plot_pie_chart_count_sentiments(sentiment_count)"
   ]
  },
  {
   "cell_type": "code",
   "execution_count": 43,
   "metadata": {},
   "outputs": [
    {
     "name": "stdout",
     "output_type": "stream",
     "text": [
      "Training target statistics: Counter({'Positive': 8087, 'Neutral': 3812, 'Negative': 2152})\n",
      "Testing target statistics: Counter({'Positive': 897, 'Neutral': 415, 'Negative': 250})\n"
     ]
    }
   ],
   "source": [
    "X = dataframe['imageurl']\n",
    "y = dataframe['sentiment']\n",
    "X_train, X_test, y_train, y_test = train_test_split(X, y, test_size=0.1, random_state=100)\n",
    "print(f\"Training target statistics: {Counter(y_train)}\")\n",
    "print(f\"Testing target statistics: {Counter(y_test)}\")"
   ]
  },
  {
   "cell_type": "markdown",
   "metadata": {},
   "source": [
    "## Balancing the dataset"
   ]
  },
  {
   "cell_type": "code",
   "execution_count": 46,
   "metadata": {},
   "outputs": [
    {
     "name": "stdout",
     "output_type": "stream",
     "text": [
      "Training target statistics: Counter({'Negative': 2152, 'Neutral': 2152, 'Positive': 2152})\n",
      "Testing target statistics: Counter({'Positive': 897, 'Neutral': 415, 'Negative': 250})\n"
     ]
    }
   ],
   "source": [
    "under_sampler = RandomUnderSampler(random_state=42)\n",
    "X_res, y_res = under_sampler.fit_resample(X_train.values.reshape(-1, 1), y_train)\n",
    "print(f\"Training target statistics: {Counter(y_res)}\")\n",
    "print(f\"Testing target statistics: {Counter(y_test)}\")"
   ]
  },
  {
   "cell_type": "code",
   "execution_count": null,
   "metadata": {},
   "outputs": [],
   "source": []
  },
  {
   "cell_type": "code",
   "execution_count": null,
   "metadata": {},
   "outputs": [],
   "source": []
  }
 ],
 "metadata": {
  "kernelspec": {
   "display_name": "Python 3",
   "language": "python",
   "name": "python3"
  },
  "language_info": {
   "codemirror_mode": {
    "name": "ipython",
    "version": 3
   },
   "file_extension": ".py",
   "mimetype": "text/x-python",
   "name": "python",
   "nbconvert_exporter": "python",
   "pygments_lexer": "ipython3",
   "version": "3.6.9"
  }
 },
 "nbformat": 4,
 "nbformat_minor": 2
}
